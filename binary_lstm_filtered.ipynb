{
 "cells": [
  {
   "cell_type": "code",
   "execution_count": 1,
   "metadata": {},
   "outputs": [
    {
     "name": "stderr",
     "output_type": "stream",
     "text": [
      "Using TensorFlow backend.\n"
     ]
    }
   ],
   "source": [
    "import os, json\n",
    "import numpy as np\n",
    "import matplotlib.pyplot as plt\n",
    "import pandas as pd\n",
    "import seaborn as sns\n",
    "import string, re\n",
    "import sys, zipfile\n",
    "from collections import Counter\n",
    "from keras.callbacks import EarlyStopping, ModelCheckpoint, ReduceLROnPlateau\n",
    "from keras.initializers import Constant\n",
    "from keras.layers import Dense, Input, GlobalMaxPooling1D\n",
    "from keras.layers import Conv1D, MaxPooling1D, Embedding\n",
    "from keras.layers import Activation, Dense, Dropout, SpatialDropout1D\n",
    "from keras.layers import Bidirectional, CuDNNLSTM\n",
    "from keras.models import Sequential, Model\n",
    "from keras.preprocessing.text import Tokenizer\n",
    "from keras.preprocessing.sequence import pad_sequences\n",
    "from keras.utils import to_categorical\n",
    "from nltk.corpus import names, stopwords, words\n",
    "from nltk.stem import WordNetLemmatizer\n",
    "from scipy import stats\n",
    "from sklearn.metrics import f1_score, make_scorer, classification_report, confusion_matrix, roc_curve, roc_auc_score\n",
    "from sklearn.model_selection import train_test_split\n",
    "sys.path.insert(0, './code/')\n",
    "from text_cleaning  import TextClean\n",
    "\n",
    "%matplotlib inline\n",
    "\n",
    "glove = \"../glove/glove.840B.300d.zip\"\n",
    "embedding_dimension = 300\n",
    "max_words = 20000\n",
    "val_split = 0.1"
   ]
  },
  {
   "cell_type": "code",
   "execution_count": 2,
   "metadata": {},
   "outputs": [],
   "source": [
    "a = TextClean('.', app_name='temple_')"
   ]
  },
  {
   "cell_type": "code",
   "execution_count": 3,
   "metadata": {},
   "outputs": [],
   "source": [
    "df = pd.read_csv('app_ratings.csv')\n",
    "df.dropna(subset=['cleaned_text'], how='all', inplace = True)\n",
    "df_p = df.loc[(df['stars'] > 3) & (df['polsum'] > 0.1)]\n",
    "df_l = df.loc[(df['stars'] < 3) & (df['polsum'] < 0.1)]"
   ]
  },
  {
   "cell_type": "code",
   "execution_count": 4,
   "metadata": {},
   "outputs": [],
   "source": [
    "X = list(df_p['cleaned_text']) + list(df_l['cleaned_text'])\n",
    "y = list(df_p['stars']) + list(df_l['stars'])"
   ]
  },
  {
   "cell_type": "code",
   "execution_count": 5,
   "metadata": {},
   "outputs": [],
   "source": [
    "X_, y_ = a.even_sample(X, y)"
   ]
  },
  {
   "cell_type": "code",
   "execution_count": 6,
   "metadata": {},
   "outputs": [],
   "source": [
    "x_a = pd.DataFrame(X_)\n",
    "x_a['y'] = y_\n",
    "x_a = x_a.loc[x_a['y']!=3]\n",
    "x_a['label'] = [1 if x > 3 else 0 for x in list(x_a['y'])]"
   ]
  },
  {
   "cell_type": "code",
   "execution_count": 7,
   "metadata": {},
   "outputs": [],
   "source": [
    "X_ = list(x_a[0])\n",
    "y = list(x_a['label'])"
   ]
  },
  {
   "cell_type": "code",
   "execution_count": 8,
   "metadata": {},
   "outputs": [],
   "source": [
    "sequence_length = max([len(x) for x in X_]) + 1\n",
    "tokenizer = Tokenizer(num_words=max_words, split=' ', oov_token='<unk>', filters=' ')\n",
    "tokenizer.fit_on_texts(X_)\n",
    "\n",
    "X = tokenizer.texts_to_sequences(X_)\n",
    "X = pad_sequences(X, sequence_length)"
   ]
  },
  {
   "cell_type": "code",
   "execution_count": 9,
   "metadata": {},
   "outputs": [
    {
     "name": "stdout",
     "output_type": "stream",
     "text": [
      "test set size 820\n"
     ]
    }
   ],
   "source": [
    "y = np.array(y)\n",
    "\n",
    "X_train, X_test, y_train, y_test = train_test_split(X, y, test_size=0.1)\n",
    "\n",
    "print(\"test set size \" + str(len(X_test)))"
   ]
  },
  {
   "cell_type": "code",
   "execution_count": 10,
   "metadata": {},
   "outputs": [],
   "source": [
    "vocab_size = min(max_words, len(tokenizer.word_index)) + 1\n",
    "\n",
    "def glove(glove_dir, wordindex):      \n",
    "    embedding_weights = {}\n",
    "    count_all_words = 0 \n",
    "    with zipfile.ZipFile(glove_dir) as z:\n",
    "        with z.open(\"glove.840B.300d.txt\") as f:\n",
    "            for line in f:\n",
    "                vals = line.split()\n",
    "                word = str(vals[0].decode(\"utf-8\")) \n",
    "                if word in wordindex:\n",
    "                    count_all_words+=1\n",
    "                    coefs = np.asarray(vals[1:], dtype='float32')\n",
    "                    coefs/=np.linalg.norm(coefs) \n",
    "                    embedding_weights[word] = coefs\n",
    "                if count_all_words==len(wordindex) - 1:\n",
    "                    break\n",
    "    return embedding_weights \n",
    "\n",
    "embeddings_index = glove(\"./glove/glove.840B.300d.zip\", tokenizer.word_index)\n",
    "\n",
    "embedding_matrix = np.zeros((vocab_size, 300))\n",
    "for word, i in tokenizer.word_index.items():\n",
    "    embedding_vector = embeddings_index.get(word)\n",
    "    if embedding_vector is not None:\n",
    "        embedding_matrix[i] = embedding_vector\n",
    "    else:\n",
    "        # doesn't exist, assign a random vector\n",
    "        embedding_matrix[i] = np.random.randn(300)"
   ]
  },
  {
   "cell_type": "code",
   "execution_count": 11,
   "metadata": {},
   "outputs": [
    {
     "name": "stdout",
     "output_type": "stream",
     "text": [
      "_________________________________________________________________\n",
      "Layer (type)                 Output Shape              Param #   \n",
      "=================================================================\n",
      "embedding_1 (Embedding)      (None, 2883, 300)         2012700   \n",
      "_________________________________________________________________\n",
      "spatial_dropout1d_1 (Spatial (None, 2883, 300)         0         \n",
      "_________________________________________________________________\n",
      "bidirectional_1 (Bidirection (None, 2883, 128)         187392    \n",
      "_________________________________________________________________\n",
      "dropout_1 (Dropout)          (None, 2883, 128)         0         \n",
      "_________________________________________________________________\n",
      "bidirectional_2 (Bidirection (None, 128)               99328     \n",
      "_________________________________________________________________\n",
      "dropout_2 (Dropout)          (None, 128)               0         \n",
      "_________________________________________________________________\n",
      "dense_1 (Dense)              (None, 1)                 129       \n",
      "=================================================================\n",
      "Total params: 2,299,549\n",
      "Trainable params: 286,849\n",
      "Non-trainable params: 2,012,700\n",
      "_________________________________________________________________\n",
      "None\n"
     ]
    }
   ],
   "source": [
    "model = Sequential([\n",
    "    Embedding(vocab_size, embedding_dimension, embeddings_initializer=Constant(embedding_matrix),\n",
    "    input_length=sequence_length,trainable=False),\n",
    "    SpatialDropout1D(0.5),\n",
    "    Bidirectional(CuDNNLSTM(64, return_sequences=True)),\n",
    "    Dropout(0.5),\n",
    "    Bidirectional(CuDNNLSTM(64)),\n",
    "    Dropout(0.5),\n",
    "    Dense(units=1, activation='sigmoid')\n",
    "])\n",
    "\n",
    "model.compile(loss = 'binary_crossentropy', optimizer='adam', metrics = ['accuracy'])\n",
    "print(model.summary())"
   ]
  },
  {
   "cell_type": "code",
   "execution_count": 12,
   "metadata": {
    "scrolled": true
   },
   "outputs": [
    {
     "name": "stdout",
     "output_type": "stream",
     "text": [
      "Train on 6634 samples, validate on 738 samples\n",
      "Epoch 1/20\n",
      "6634/6634 [==============================] - 73s 11ms/step - loss: 0.4827 - acc: 0.7641 - val_loss: 0.3295 - val_acc: 0.8753\n",
      "Epoch 2/20\n",
      "6634/6634 [==============================] - 69s 10ms/step - loss: 0.4268 - acc: 0.8260 - val_loss: 0.5343 - val_acc: 0.7249\n",
      "Epoch 3/20\n",
      "6634/6634 [==============================] - 69s 10ms/step - loss: 0.4203 - acc: 0.8244 - val_loss: 0.3481 - val_acc: 0.8659\n",
      "Epoch 4/20\n",
      "6634/6634 [==============================] - 69s 10ms/step - loss: 0.3260 - acc: 0.8788 - val_loss: 0.3367 - val_acc: 0.8686\n",
      "Epoch 5/20\n",
      "6634/6634 [==============================] - 69s 10ms/step - loss: 0.3051 - acc: 0.8826 - val_loss: 0.3225 - val_acc: 0.8862\n",
      "Epoch 6/20\n",
      "6634/6634 [==============================] - 69s 10ms/step - loss: 0.2919 - acc: 0.8882 - val_loss: 0.3128 - val_acc: 0.8902\n",
      "Epoch 7/20\n",
      "6634/6634 [==============================] - 69s 10ms/step - loss: 0.2763 - acc: 0.8922 - val_loss: 0.3080 - val_acc: 0.8848\n",
      "Epoch 8/20\n",
      "6634/6634 [==============================] - 69s 10ms/step - loss: 0.5032 - acc: 0.7852 - val_loss: 0.3564 - val_acc: 0.8604\n",
      "Epoch 9/20\n",
      "6634/6634 [==============================] - 69s 10ms/step - loss: 0.3949 - acc: 0.8410 - val_loss: 0.3442 - val_acc: 0.8618\n",
      "Epoch 10/20\n",
      "6634/6634 [==============================] - 69s 10ms/step - loss: 0.3775 - acc: 0.8467 - val_loss: 0.3301 - val_acc: 0.8821\n",
      "Epoch 11/20\n",
      "6634/6634 [==============================] - 69s 10ms/step - loss: 0.3805 - acc: 0.8487 - val_loss: 0.3711 - val_acc: 0.8686\n",
      "Epoch 12/20\n",
      "6634/6634 [==============================] - 69s 10ms/step - loss: 0.3368 - acc: 0.8729 - val_loss: 0.3223 - val_acc: 0.8821\n"
     ]
    }
   ],
   "source": [
    "batch_size = 64\n",
    "early_stopping = EarlyStopping(monitor='val_loss', patience=5, mode='min')\n",
    "save_best = ModelCheckpoint('reviews_binary_lstm.hdf', save_best_only=True, \n",
    "                           monitor='val_loss', mode='min')\n",
    "history = model.fit(X_train, y_train, \n",
    "                    epochs=20, \n",
    "                    batch_size=batch_size, \n",
    "                    callbacks=[early_stopping,save_best],\n",
    "                    verbose=1, validation_split=0.1)"
   ]
  },
  {
   "cell_type": "code",
   "execution_count": 13,
   "metadata": {},
   "outputs": [
    {
     "data": {
      "image/png": "[encoded data removed]",
      "text/plain": [
       "<Figure size 576x360 with 1 Axes>"
      ]
     },
     "metadata": {
      "needs_background": "light"
     },
     "output_type": "display_data"
    }
   ],
   "source": [
    "pd.DataFrame(history.history).plot(figsize=(8, 5))\n",
    "plt.axis([0, 20, 0, 1.0])\n",
    "plt.grid(True)\n",
    "plt.show()"
   ]
  },
  {
   "cell_type": "code",
   "execution_count": 14,
   "metadata": {},
   "outputs": [
    {
     "data": {
      "text/plain": [
       "Text(91.68, 0.5, 'label actual')"
      ]
     },
     "execution_count": 14,
     "metadata": {},
     "output_type": "execute_result"
    },
    {
     "data": {
      "image/png": "[encoded data removed]",
      "text/plain": [
       "<Figure size 432x288 with 1 Axes>"
      ]
     },
     "metadata": {
      "needs_background": "light"
     },
     "output_type": "display_data"
    }
   ],
   "source": [
    "preds = model.predict_classes(X_test)\n",
    "matrix = confusion_matrix(y_test, preds)\n",
    "\n",
    "sns.heatmap(matrix, square=True, annot=True, fmt='d', cbar=False,\n",
    "           xticklabels=[0,1],yticklabels=[0,1])\n",
    "\n",
    "plt.xlabel('predicted label')\n",
    "plt.ylabel('label actual')"
   ]
  },
  {
   "cell_type": "code",
   "execution_count": 15,
   "metadata": {},
   "outputs": [
    {
     "name": "stdout",
     "output_type": "stream",
     "text": [
      "              precision    recall  f1-score   support\n",
      "\n",
      "           0       0.90      0.86      0.88       343\n",
      "           1       0.90      0.93      0.92       477\n",
      "\n",
      "   micro avg       0.90      0.90      0.90       820\n",
      "   macro avg       0.90      0.90      0.90       820\n",
      "weighted avg       0.90      0.90      0.90       820\n",
      "\n"
     ]
    }
   ],
   "source": [
    "print(classification_report(y_test, preds))"
   ]
  },
  {
   "cell_type": "code",
   "execution_count": 16,
   "metadata": {},
   "outputs": [],
   "source": [
    "import pickle\n",
    "\n",
    "with open('binary_tokenizer.pickle', 'wb') as handle:\n",
    "    pickle.dump(tokenizer, handle, protocol=pickle.HIGHEST_PROTOCOL)"
   ]
  },
  {
   "cell_type": "code",
   "execution_count": 17,
   "metadata": {},
   "outputs": [],
   "source": [
    "info = {\n",
    "    'tokenizer':'binary_tokenizer.pickle',\n",
    "    'model':'reviews_binary_lstm.hdf',\n",
    "    'max_sequence':sequence_length,\n",
    "    'max_words':max_words,\n",
    "    'vocab_size':vocab_size\n",
    "}\n",
    "\n",
    "import json\n",
    "\n",
    "with open('binary_project_info.json', 'w') as outfile:\n",
    "    json.dump(info, outfile)"
   ]
  }
 ],
 "metadata": {
  "kernelspec": {
   "display_name": "Python 3",
   "language": "python",
   "name": "python3"
  },
  "language_info": {
   "codemirror_mode": {
    "name": "ipython",
    "version": 3
   },
   "file_extension": ".py",
   "mimetype": "text/x-python",
   "name": "python",
   "nbconvert_exporter": "python",
   "pygments_lexer": "ipython3",
   "version": "3.6.7"
  }
 },
 "nbformat": 4,
 "nbformat_minor": 2
}
