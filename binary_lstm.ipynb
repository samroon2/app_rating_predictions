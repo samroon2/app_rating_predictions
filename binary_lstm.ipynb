{
 "cells": [
  {
   "cell_type": "code",
   "execution_count": 1,
   "metadata": {},
   "outputs": [
    {
     "name": "stderr",
     "output_type": "stream",
     "text": [
      "Using TensorFlow backend.\n"
     ]
    }
   ],
   "source": [
    "import os, json\n",
    "import numpy as np\n",
    "import matplotlib.pyplot as plt\n",
    "import pandas as pd\n",
    "import seaborn as sns\n",
    "import string, re\n",
    "import sys, zipfile\n",
    "from collections import Counter\n",
    "from keras.callbacks import EarlyStopping, ModelCheckpoint, ReduceLROnPlateau\n",
    "from keras.initializers import Constant\n",
    "from keras.layers import Dense, Input, GlobalMaxPooling1D\n",
    "from keras.layers import Conv1D, MaxPooling1D, Embedding\n",
    "from keras.layers import Activation, Dense, Dropout, SpatialDropout1D\n",
    "from keras.layers import Bidirectional, CuDNNLSTM\n",
    "from keras.models import Sequential, Model\n",
    "from keras.preprocessing.text import Tokenizer\n",
    "from keras.preprocessing.sequence import pad_sequences\n",
    "from keras.utils import to_categorical\n",
    "from nltk.corpus import names, stopwords, words\n",
    "from nltk.stem import WordNetLemmatizer\n",
    "from scipy import stats\n",
    "from sklearn.metrics import f1_score, make_scorer, classification_report, confusion_matrix, roc_curve, roc_auc_score\n",
    "from sklearn.model_selection import train_test_split\n",
    "sys.path.insert(0, './code/')\n",
    "from text_cleaning  import TextClean\n",
    "\n",
    "%matplotlib inline\n",
    "\n",
    "glove = \"../glove/glove.840B.300d.zip\"\n",
    "embedding_dimension = 300\n",
    "max_words = 20000\n",
    "val_split = 0.1"
   ]
  },
  {
   "cell_type": "code",
   "execution_count": 2,
   "metadata": {},
   "outputs": [],
   "source": [
    "a = TextClean('.', app_name='temple_')"
   ]
  },
  {
   "cell_type": "code",
   "execution_count": 3,
   "metadata": {},
   "outputs": [],
   "source": [
    "X = []\n",
    "y = []\n",
    "\n",
    "with open('./data/temp_pre/temple__12.json') as f:\n",
    "    j = json.load(f)\n",
    "    [X.append(x['cleaned_text']) for x in j]\n",
    "    [y.append(x['stars']) for x in j]"
   ]
  },
  {
   "cell_type": "code",
   "execution_count": 4,
   "metadata": {},
   "outputs": [],
   "source": [
    "X_, y_ = a.even_sample(X, y)\n",
    "y_ = [int(re.search(r'\\d+', x).group()) for x in y_]"
   ]
  },
  {
   "cell_type": "code",
   "execution_count": 5,
   "metadata": {},
   "outputs": [],
   "source": [
    "x_a = pd.DataFrame(X_)\n",
    "x_a['y'] = y_\n",
    "x_a = x_a.loc[x_a['y']!=3]\n",
    "x_a['label'] = [1 if x > 3 else 0 for x in list(x_a['y'])]"
   ]
  },
  {
   "cell_type": "code",
   "execution_count": 6,
   "metadata": {},
   "outputs": [],
   "source": [
    "X_ = list(x_a[0])\n",
    "y = list(x_a['label'])"
   ]
  },
  {
   "cell_type": "code",
   "execution_count": 7,
   "metadata": {},
   "outputs": [],
   "source": [
    "sequence_length = max([len(x) for x in X_]) + 1\n",
    "tokenizer = Tokenizer(num_words=max_words, split=' ', oov_token='<unk>', filters=' ')\n",
    "tokenizer.fit_on_texts(X_)\n",
    "\n",
    "X = tokenizer.texts_to_sequences(X_)\n",
    "X = pad_sequences(X, sequence_length)"
   ]
  },
  {
   "cell_type": "code",
   "execution_count": 8,
   "metadata": {},
   "outputs": [
    {
     "name": "stdout",
     "output_type": "stream",
     "text": [
      "test set size 1385\n"
     ]
    }
   ],
   "source": [
    "y = np.array(y)\n",
    "\n",
    "X_train, X_test, y_train, y_test = train_test_split(X, y, test_size=0.1)\n",
    "\n",
    "print(\"test set size \" + str(len(X_test)))"
   ]
  },
  {
   "cell_type": "code",
   "execution_count": 9,
   "metadata": {},
   "outputs": [],
   "source": [
    "vocab_size = min(max_words, len(tokenizer.word_index)) + 1\n",
    "\n",
    "def glove(glove_dir, wordindex):      \n",
    "    embedding_weights = {}\n",
    "    count_all_words = 0 \n",
    "    with zipfile.ZipFile(glove_dir) as z:\n",
    "        with z.open(\"glove.840B.300d.txt\") as f:\n",
    "            for line in f:\n",
    "                vals = line.split()\n",
    "                word = str(vals[0].decode(\"utf-8\")) \n",
    "                if word in wordindex:\n",
    "                    count_all_words+=1\n",
    "                    coefs = np.asarray(vals[1:], dtype='float32')\n",
    "                    coefs/=np.linalg.norm(coefs) \n",
    "                    embedding_weights[word] = coefs\n",
    "                if count_all_words==len(wordindex) - 1:\n",
    "                    break\n",
    "    return embedding_weights \n",
    "\n",
    "embeddings_index = glove(\"./glove/glove.840B.300d.zip\", tokenizer.word_index)\n",
    "\n",
    "embedding_matrix = np.zeros((vocab_size, 300))\n",
    "for word, i in tokenizer.word_index.items():\n",
    "    embedding_vector = embeddings_index.get(word)\n",
    "    if embedding_vector is not None:\n",
    "        embedding_matrix[i] = embedding_vector\n",
    "    else:\n",
    "        # doesn't exist, assign a random vector\n",
    "        embedding_matrix[i] = np.random.randn(300)"
   ]
  },
  {
   "cell_type": "code",
   "execution_count": 10,
   "metadata": {},
   "outputs": [
    {
     "name": "stdout",
     "output_type": "stream",
     "text": [
      "_________________________________________________________________\n",
      "Layer (type)                 Output Shape              Param #   \n",
      "=================================================================\n",
      "embedding_1 (Embedding)      (None, 2883, 300)         2761500   \n",
      "_________________________________________________________________\n",
      "spatial_dropout1d_1 (Spatial (None, 2883, 300)         0         \n",
      "_________________________________________________________________\n",
      "bidirectional_1 (Bidirection (None, 2883, 128)         187392    \n",
      "_________________________________________________________________\n",
      "dropout_1 (Dropout)          (None, 2883, 128)         0         \n",
      "_________________________________________________________________\n",
      "bidirectional_2 (Bidirection (None, 128)               99328     \n",
      "_________________________________________________________________\n",
      "dropout_2 (Dropout)          (None, 128)               0         \n",
      "_________________________________________________________________\n",
      "dense_1 (Dense)              (None, 1)                 129       \n",
      "=================================================================\n",
      "Total params: 3,048,349\n",
      "Trainable params: 286,849\n",
      "Non-trainable params: 2,761,500\n",
      "_________________________________________________________________\n",
      "None\n"
     ]
    }
   ],
   "source": [
    "model = Sequential([\n",
    "    Embedding(vocab_size, embedding_dimension, embeddings_initializer=Constant(embedding_matrix),\n",
    "    input_length=sequence_length,trainable=False),\n",
    "    SpatialDropout1D(0.5),\n",
    "    Bidirectional(CuDNNLSTM(64, return_sequences=True)),\n",
    "    Dropout(0.5),\n",
    "    Bidirectional(CuDNNLSTM(64)),\n",
    "    Dropout(0.5),\n",
    "    Dense(units=1, activation='sigmoid')\n",
    "])\n",
    "\n",
    "model.compile(loss = 'binary_crossentropy', optimizer='adam', metrics = ['accuracy'])\n",
    "print(model.summary())"
   ]
  },
  {
   "cell_type": "code",
   "execution_count": 11,
   "metadata": {
    "scrolled": true
   },
   "outputs": [
    {
     "name": "stdout",
     "output_type": "stream",
     "text": [
      "Train on 11216 samples, validate on 1247 samples\n",
      "Epoch 1/20\n",
      "11216/11216 [==============================] - 121s 11ms/step - loss: 0.5752 - acc: 0.7070 - val_loss: 0.5125 - val_acc: 0.7682\n",
      "Epoch 2/20\n",
      "11216/11216 [==============================] - 117s 10ms/step - loss: 0.5521 - acc: 0.7315 - val_loss: 0.6921 - val_acc: 0.4667\n",
      "Epoch 3/20\n",
      "11216/11216 [==============================] - 118s 11ms/step - loss: 0.5812 - acc: 0.7032 - val_loss: 0.5054 - val_acc: 0.7674\n",
      "Epoch 4/20\n",
      "11216/11216 [==============================] - 118s 10ms/step - loss: 0.5330 - acc: 0.7500 - val_loss: 0.6640 - val_acc: 0.5333\n",
      "Epoch 5/20\n",
      "11216/11216 [==============================] - 118s 10ms/step - loss: 0.5567 - acc: 0.7385 - val_loss: 0.5033 - val_acc: 0.7690\n",
      "Epoch 6/20\n",
      "11216/11216 [==============================] - 118s 10ms/step - loss: 0.5289 - acc: 0.7609 - val_loss: 0.5025 - val_acc: 0.7698\n",
      "Epoch 7/20\n",
      "11216/11216 [==============================] - 118s 10ms/step - loss: 0.5178 - acc: 0.7659 - val_loss: 0.5029 - val_acc: 0.7506\n",
      "Epoch 8/20\n",
      "11216/11216 [==============================] - 117s 10ms/step - loss: 0.5140 - acc: 0.7625 - val_loss: 0.4859 - val_acc: 0.7835\n",
      "Epoch 9/20\n",
      "11216/11216 [==============================] - 117s 10ms/step - loss: 0.5085 - acc: 0.7704 - val_loss: 0.4911 - val_acc: 0.7875\n",
      "Epoch 10/20\n",
      "11216/11216 [==============================] - 117s 10ms/step - loss: 0.5001 - acc: 0.7718 - val_loss: 0.4843 - val_acc: 0.7763\n",
      "Epoch 11/20\n",
      "11216/11216 [==============================] - 117s 10ms/step - loss: 0.5018 - acc: 0.7756 - val_loss: 0.4839 - val_acc: 0.7843\n",
      "Epoch 12/20\n",
      "11216/11216 [==============================] - 117s 10ms/step - loss: 0.4974 - acc: 0.7726 - val_loss: 0.4838 - val_acc: 0.7771\n",
      "Epoch 13/20\n",
      "11216/11216 [==============================] - 117s 10ms/step - loss: 0.4907 - acc: 0.7754 - val_loss: 0.4925 - val_acc: 0.7594\n",
      "Epoch 14/20\n",
      "11216/11216 [==============================] - 117s 10ms/step - loss: 0.4917 - acc: 0.7778 - val_loss: 0.4764 - val_acc: 0.7835\n",
      "Epoch 15/20\n",
      "11216/11216 [==============================] - 117s 10ms/step - loss: 0.4817 - acc: 0.7824 - val_loss: 0.4723 - val_acc: 0.7819\n",
      "Epoch 16/20\n",
      "11216/11216 [==============================] - 117s 10ms/step - loss: 0.4862 - acc: 0.7827 - val_loss: 0.4706 - val_acc: 0.7867\n",
      "Epoch 17/20\n",
      "11216/11216 [==============================] - 117s 10ms/step - loss: 0.4816 - acc: 0.7822 - val_loss: 0.4731 - val_acc: 0.7859\n",
      "Epoch 18/20\n",
      "11216/11216 [==============================] - 119s 11ms/step - loss: 0.4808 - acc: 0.7803 - val_loss: 0.4746 - val_acc: 0.7747\n",
      "Epoch 19/20\n",
      "11216/11216 [==============================] - 119s 11ms/step - loss: 0.4780 - acc: 0.7815 - val_loss: 0.4738 - val_acc: 0.7867\n",
      "Epoch 20/20\n",
      "11216/11216 [==============================] - 118s 11ms/step - loss: 0.4704 - acc: 0.7878 - val_loss: 0.4695 - val_acc: 0.7859\n"
     ]
    }
   ],
   "source": [
    "batch_size = 64\n",
    "early_stopping = EarlyStopping(monitor='val_loss', patience=5, mode='min')\n",
    "save_best = ModelCheckpoint('reviews_binary_lstm.hdf', save_best_only=True, \n",
    "                           monitor='val_loss', mode='min')\n",
    "history = model.fit(X_train, y_train, \n",
    "                    epochs=20, \n",
    "                    batch_size=batch_size, \n",
    "                    callbacks=[early_stopping,save_best],\n",
    "                    verbose=1, validation_split=0.1)"
   ]
  },
  {
   "cell_type": "code",
   "execution_count": 12,
   "metadata": {},
   "outputs": [
    {
     "data": {
      "image/png": "[encoded data removed]",
      "text/plain": [
       "<Figure size 576x360 with 1 Axes>"
      ]
     },
     "metadata": {
      "needs_background": "light"
     },
     "output_type": "display_data"
    }
   ],
   "source": [
    "pd.DataFrame(history.history).plot(figsize=(8, 5))\n",
    "plt.axis([0, 20, 0, 1.0])\n",
    "plt.grid(True)\n",
    "plt.show()"
   ]
  },
  {
   "cell_type": "code",
   "execution_count": 13,
   "metadata": {},
   "outputs": [
    {
     "data": {
      "text/plain": [
       "Text(91.68, 0.5, 'label actual')"
      ]
     },
     "execution_count": 13,
     "metadata": {},
     "output_type": "execute_result"
    },
    {
     "data": {
      "image/png": "[encoded data removed]",
      "text/plain": [
       "<Figure size 432x288 with 1 Axes>"
      ]
     },
     "metadata": {
      "needs_background": "light"
     },
     "output_type": "display_data"
    }
   ],
   "source": [
    "preds = model.predict_classes(X_test)\n",
    "matrix = confusion_matrix(y_test, preds)\n",
    "\n",
    "sns.heatmap(matrix, square=True, annot=True, fmt='d', cbar=False,\n",
    "           xticklabels=[0,1],yticklabels=[0,1])\n",
    "\n",
    "plt.xlabel('predicted label')\n",
    "plt.ylabel('label actual')"
   ]
  },
  {
   "cell_type": "code",
   "execution_count": 14,
   "metadata": {},
   "outputs": [
    {
     "name": "stdout",
     "output_type": "stream",
     "text": [
      "              precision    recall  f1-score   support\n",
      "\n",
      "           0       0.83      0.66      0.74       608\n",
      "           1       0.77      0.89      0.83       777\n",
      "\n",
      "   micro avg       0.79      0.79      0.79      1385\n",
      "   macro avg       0.80      0.78      0.78      1385\n",
      "weighted avg       0.80      0.79      0.79      1385\n",
      "\n"
     ]
    }
   ],
   "source": [
    "print(classification_report(y_test, preds))"
   ]
  }
 ],
 "metadata": {
  "kernelspec": {
   "display_name": "Python 3",
   "language": "python",
   "name": "python3"
  },
  "language_info": {
   "codemirror_mode": {
    "name": "ipython",
    "version": 3
   },
   "file_extension": ".py",
   "mimetype": "text/x-python",
   "name": "python",
   "nbconvert_exporter": "python",
   "pygments_lexer": "ipython3",
   "version": "3.6.7"
  }
 },
 "nbformat": 4,
 "nbformat_minor": 2
}
