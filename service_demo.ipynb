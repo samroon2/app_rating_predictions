{
 "cells": [
  {
   "cell_type": "code",
   "execution_count": 1,
   "metadata": {},
   "outputs": [],
   "source": [
    "import requests\n",
    "import json\n",
    "\n",
    "headers = {'Content-Type': 'application/json', 'Accept': 'application/json'}"
   ]
  },
  {
   "cell_type": "code",
   "execution_count": 2,
   "metadata": {},
   "outputs": [
    {
     "name": "stdout",
     "output_type": "stream",
     "text": [
      "{'stars': 1}\n"
     ]
    }
   ],
   "source": [
    "data = {'title':'Terrible App', \n",
    "        'review':'This is by far the worst app I have ever played!!!!'}\n",
    "\n",
    "req = requests.post(\"http://127.0.0.1:80/score\", data=json.dumps(data), headers=headers)\n",
    "print(req.json())"
   ]
  },
  {
   "cell_type": "code",
   "execution_count": 3,
   "metadata": {},
   "outputs": [
    {
     "name": "stdout",
     "output_type": "stream",
     "text": [
      "{'stars': 3}\n"
     ]
    }
   ],
   "source": [
    "data = {'title':'Just okay, but pretty average', \n",
    "        'review':'Not the best, there are better games to play.'}\n",
    "\n",
    "req = requests.post(\"http://127.0.0.1:80/score\", data=json.dumps(data), headers=headers)\n",
    "print(req.json())"
   ]
  },
  {
   "cell_type": "code",
   "execution_count": 4,
   "metadata": {},
   "outputs": [
    {
     "name": "stdout",
     "output_type": "stream",
     "text": [
      "{'stars': 3}\n"
     ]
    }
   ],
   "source": [
    "data = {'title':'Pretty decent', \n",
    "        'review':'Pretty decent game.'}\n",
    "\n",
    "req = requests.post(\"http://127.0.0.1:80/score\", data=json.dumps(data), headers=headers)\n",
    "print(req.json())"
   ]
  },
  {
   "cell_type": "code",
   "execution_count": 5,
   "metadata": {},
   "outputs": [
    {
     "name": "stdout",
     "output_type": "stream",
     "text": [
      "{'stars': 4}\n"
     ]
    }
   ],
   "source": [
    "data = {'title':'Great App', \n",
    "        'review':'Really good.'}\n",
    "\n",
    "req = requests.post(\"http://127.0.0.1:80/score\", data=json.dumps(data), headers=headers)\n",
    "print(req.json())"
   ]
  },
  {
   "cell_type": "code",
   "execution_count": 6,
   "metadata": {},
   "outputs": [
    {
     "name": "stdout",
     "output_type": "stream",
     "text": [
      "{'stars': 5}\n"
     ]
    }
   ],
   "source": [
    "data = {'title':'The best', \n",
    "        'review':'By far the best game I have ever played.'}\n",
    "\n",
    "req = requests.post(\"http://127.0.0.1:80/score\", data=json.dumps(data), headers=headers)\n",
    "print(req.json())"
   ]
  }
 ],
 "metadata": {
  "kernelspec": {
   "display_name": "Python 3",
   "language": "python",
   "name": "python3"
  },
  "language_info": {
   "codemirror_mode": {
    "name": "ipython",
    "version": 3
   },
   "file_extension": ".py",
   "mimetype": "text/x-python",
   "name": "python",
   "nbconvert_exporter": "python",
   "pygments_lexer": "ipython3",
   "version": "3.6.7"
  }
 },
 "nbformat": 4,
 "nbformat_minor": 2
}
