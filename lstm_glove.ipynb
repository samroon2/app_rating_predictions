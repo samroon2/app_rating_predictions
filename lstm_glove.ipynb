{
 "cells": [
  {
   "cell_type": "code",
   "execution_count": 1,
   "metadata": {},
   "outputs": [
    {
     "name": "stderr",
     "output_type": "stream",
     "text": [
      "Using TensorFlow backend.\n"
     ]
    }
   ],
   "source": [
    "import os\n",
    "import numpy as np\n",
    "import matplotlib.pyplot as plt\n",
    "import pandas as pd\n",
    "import seaborn as sns\n",
    "import string, re\n",
    "import sys, zipfile\n",
    "from collections import Counter\n",
    "from keras.callbacks import EarlyStopping, ModelCheckpoint, ReduceLROnPlateau\n",
    "from keras.initializers import Constant\n",
    "from keras.layers import Dense, Input, GlobalMaxPooling1D\n",
    "from keras.layers import Conv1D, MaxPooling1D, Embedding\n",
    "from keras.layers import Activation, Dense, Dropout, SpatialDropout1D\n",
    "from keras.layers import Bidirectional, CuDNNLSTM\n",
    "from keras.models import Sequential, Model\n",
    "from keras.preprocessing.text import Tokenizer\n",
    "from keras.preprocessing.sequence import pad_sequences\n",
    "from keras.utils import to_categorical\n",
    "from nltk.corpus import names, stopwords, words\n",
    "from nltk.stem import WordNetLemmatizer\n",
    "from scipy import stats\n",
    "from sklearn.metrics import f1_score, make_scorer, classification_report, confusion_matrix, roc_curve, roc_auc_score\n",
    "from sklearn.model_selection import train_test_split\n",
    "sys.path.insert(0, './code/')\n",
    "from text_cleaning  import TextClean\n",
    "\n",
    "%matplotlib inline\n",
    "\n",
    "glove = \"../glove/glove.840B.300d.zip\"\n",
    "embedding_dimension = 300\n",
    "max_words = 20000\n",
    "val_split = 0.1"
   ]
  },
  {
   "cell_type": "code",
   "execution_count": 2,
   "metadata": {
    "scrolled": true
   },
   "outputs": [],
   "source": [
    "a = TextClean('.', app_name='temple_')\n",
    "# a.multi_process()\n",
    "# a.combine_products()"
   ]
  },
  {
   "cell_type": "code",
   "execution_count": 3,
   "metadata": {},
   "outputs": [],
   "source": [
    "import json\n",
    "X = []\n",
    "y = []\n",
    "\n",
    "with open('./code/temp_pre/temple__12.json') as f:\n",
    "    j = json.load(f)\n",
    "    [X.append(x['cleaned_text']) for x in j]\n",
    "    [y.append(x['stars']) for x in j]"
   ]
  },
  {
   "cell_type": "code",
   "execution_count": 4,
   "metadata": {},
   "outputs": [
    {
     "data": {
      "text/plain": [
       "(450522, 450522)"
      ]
     },
     "execution_count": 4,
     "metadata": {},
     "output_type": "execute_result"
    }
   ],
   "source": [
    "len(X), len(y)"
   ]
  },
  {
   "cell_type": "code",
   "execution_count": 5,
   "metadata": {},
   "outputs": [
    {
     "data": {
      "text/plain": [
       "('game bad jump chasing cloths hate pouting face pouting face pouting face pouting face pouting face pouting face pouting face pouting face',\n",
       " '1 star')"
      ]
     },
     "execution_count": 5,
     "metadata": {},
     "output_type": "execute_result"
    }
   ],
   "source": [
    "X[3], y[3]"
   ]
  },
  {
   "cell_type": "code",
   "execution_count": 6,
   "metadata": {},
   "outputs": [],
   "source": [
    "cnts = Counter(y)\n",
    "cnts = dict(sorted(cnts.items(), key=lambda x: x[1]))"
   ]
  },
  {
   "cell_type": "code",
   "execution_count": 7,
   "metadata": {},
   "outputs": [
    {
     "data": {
      "image/png": "[encoded data removed]",
      "text/plain": [
       "<Figure size 576x432 with 1 Axes>"
      ]
     },
     "metadata": {},
     "output_type": "display_data"
    }
   ],
   "source": [
    "sns.set(style=\"whitegrid\")\n",
    "plt.figure(figsize=(8, 6))\n",
    "ax = sns.barplot(x=list(cnts.keys()), y=list(cnts.values()))\n",
    "ax.set_title('Dataset Star Distribution')\n",
    "plt.show()"
   ]
  },
  {
   "cell_type": "code",
   "execution_count": 8,
   "metadata": {},
   "outputs": [],
   "source": [
    "X_, y_ = a.even_sample(X, y)"
   ]
  },
  {
   "cell_type": "code",
   "execution_count": 9,
   "metadata": {},
   "outputs": [],
   "source": [
    "y_ = [int(re.search(r'\\d+', x).group()) for x in y_]"
   ]
  },
  {
   "cell_type": "code",
   "execution_count": 10,
   "metadata": {},
   "outputs": [
    {
     "name": "stdout",
     "output_type": "stream",
     "text": [
      "Counter({1: 3712, 4: 3712, 3: 3712, 5: 3712, 2: 2712})\n"
     ]
    }
   ],
   "source": [
    "print(Counter(y_))"
   ]
  },
  {
   "cell_type": "code",
   "execution_count": 11,
   "metadata": {},
   "outputs": [],
   "source": [
    "sequence_length = max([len(x) for x in X_]) + 1\n",
    "tokenizer = Tokenizer(num_words=max_words, split=' ', oov_token='<unk>', filters=' ')\n",
    "tokenizer.fit_on_texts(X_)\n",
    "\n",
    "X = tokenizer.texts_to_sequences(X_)\n",
    "X = pad_sequences(X, sequence_length)"
   ]
  },
  {
   "cell_type": "code",
   "execution_count": 12,
   "metadata": {},
   "outputs": [
    {
     "name": "stdout",
     "output_type": "stream",
     "text": [
      "test set size 1756\n"
     ]
    }
   ],
   "source": [
    "y = np.array(y_)\n",
    "y_l = to_categorical(np.asarray(y))\n",
    "y_l = np.delete(y_l, 0, axis=1)\n",
    "\n",
    "X_train, X_test, y_train, y_test = train_test_split(X, y_l, test_size=0.1)\n",
    "\n",
    "print(\"test set size \" + str(len(X_test)))"
   ]
  },
  {
   "cell_type": "code",
   "execution_count": 13,
   "metadata": {},
   "outputs": [],
   "source": [
    "vocab_size = min(max_words, len(tokenizer.word_index)) + 1\n",
    "\n",
    "def glove(glove_dir, wordindex):      \n",
    "    embedding_weights = {}\n",
    "    count_all_words = 0 \n",
    "    with zipfile.ZipFile(glove_dir) as z:\n",
    "        with z.open(\"glove.840B.300d.txt\") as f:\n",
    "            for line in f:\n",
    "                vals = line.split()\n",
    "                word = str(vals[0].decode(\"utf-8\")) \n",
    "                if word in wordindex:\n",
    "                    count_all_words+=1\n",
    "                    coefs = np.asarray(vals[1:], dtype='float32')\n",
    "                    coefs/=np.linalg.norm(coefs) \n",
    "                    embedding_weights[word] = coefs\n",
    "                if count_all_words==len(wordindex) - 1:\n",
    "                    break\n",
    "    return embedding_weights \n",
    "\n",
    "embeddings_index = glove(\"./glove/glove.840B.300d.zip\", tokenizer.word_index)\n",
    "\n",
    "embedding_matrix = np.zeros((vocab_size, 300))\n",
    "for word, i in tokenizer.word_index.items():\n",
    "    embedding_vector = embeddings_index.get(word)\n",
    "    if embedding_vector is not None:\n",
    "        embedding_matrix[i] = embedding_vector\n",
    "    else:\n",
    "        # doesn't exist, assign a random vector\n",
    "        embedding_matrix[i] = np.random.randn(300)"
   ]
  },
  {
   "cell_type": "code",
   "execution_count": 14,
   "metadata": {
    "scrolled": true
   },
   "outputs": [
    {
     "name": "stdout",
     "output_type": "stream",
     "text": [
      "_________________________________________________________________\n",
      "Layer (type)                 Output Shape              Param #   \n",
      "=================================================================\n",
      "embedding_1 (Embedding)      (None, 2883, 300)         3175800   \n",
      "_________________________________________________________________\n",
      "spatial_dropout1d_1 (Spatial (None, 2883, 300)         0         \n",
      "_________________________________________________________________\n",
      "bidirectional_1 (Bidirection (None, 2883, 128)         187392    \n",
      "_________________________________________________________________\n",
      "dropout_1 (Dropout)          (None, 2883, 128)         0         \n",
      "_________________________________________________________________\n",
      "bidirectional_2 (Bidirection (None, 128)               99328     \n",
      "_________________________________________________________________\n",
      "dropout_2 (Dropout)          (None, 128)               0         \n",
      "_________________________________________________________________\n",
      "dense_1 (Dense)              (None, 5)                 645       \n",
      "=================================================================\n",
      "Total params: 3,463,165\n",
      "Trainable params: 3,463,165\n",
      "Non-trainable params: 0\n",
      "_________________________________________________________________\n",
      "None\n"
     ]
    }
   ],
   "source": [
    "model = Sequential([\n",
    "    Embedding(vocab_size, embedding_dimension, embeddings_initializer=Constant(embedding_matrix),\n",
    "    input_length=sequence_length,trainable=True),\n",
    "    SpatialDropout1D(0.2),\n",
    "    Bidirectional(CuDNNLSTM(64, return_sequences=True)),\n",
    "    Dropout(0.4),\n",
    "    Bidirectional(CuDNNLSTM(64)),\n",
    "    Dropout(0.4),\n",
    "    Dense(units=5, activation='softmax')\n",
    "])\n",
    "\n",
    "model.compile(loss = 'categorical_crossentropy', optimizer='adam', metrics = ['categorical_accuracy'])\n",
    "print(model.summary())"
   ]
  },
  {
   "cell_type": "code",
   "execution_count": 15,
   "metadata": {},
   "outputs": [
    {
     "name": "stdout",
     "output_type": "stream",
     "text": [
      "Train on 14223 samples, validate on 1581 samples\n",
      "Epoch 1/10\n",
      "14223/14223 [==============================] - 170s 12ms/step - loss: 1.4154 - categorical_accuracy: 0.3879 - val_loss: 1.3398 - val_categorical_accuracy: 0.4510\n",
      "Epoch 2/10\n",
      "14223/14223 [==============================] - 165s 12ms/step - loss: 1.3249 - categorical_accuracy: 0.4524 - val_loss: 1.3436 - val_categorical_accuracy: 0.4345\n",
      "Epoch 3/10\n",
      "14223/14223 [==============================] - 166s 12ms/step - loss: 1.1939 - categorical_accuracy: 0.5185 - val_loss: 1.3611 - val_categorical_accuracy: 0.4307\n",
      "Epoch 4/10\n",
      "14223/14223 [==============================] - 166s 12ms/step - loss: 1.0895 - categorical_accuracy: 0.5765 - val_loss: 1.4069 - val_categorical_accuracy: 0.4250\n",
      "Epoch 5/10\n",
      "14223/14223 [==============================] - 166s 12ms/step - loss: 1.0022 - categorical_accuracy: 0.6231 - val_loss: 1.5150 - val_categorical_accuracy: 0.4168\n",
      "Epoch 6/10\n",
      "14223/14223 [==============================] - 166s 12ms/step - loss: 0.9123 - categorical_accuracy: 0.6601 - val_loss: 1.5706 - val_categorical_accuracy: 0.4023\n"
     ]
    }
   ],
   "source": [
    "batch_size = 64\n",
    "early_stopping = EarlyStopping(monitor='val_loss', patience=5, mode='min')\n",
    "save_best = ModelCheckpoint('reviews_lstm.hdf', save_best_only=True, \n",
    "                           monitor='val_loss', mode='min')\n",
    "history = model.fit(X_train, y_train, \n",
    "                    epochs=10, \n",
    "                    batch_size=batch_size, \n",
    "                    callbacks=[early_stopping,save_best],\n",
    "                    verbose=1, validation_split=0.1)"
   ]
  },
  {
   "cell_type": "code",
   "execution_count": 16,
   "metadata": {},
   "outputs": [
    {
     "data": {
      "image/png": "[encoded data removed]",
      "text/plain": [
       "<Figure size 576x360 with 1 Axes>"
      ]
     },
     "metadata": {},
     "output_type": "display_data"
    }
   ],
   "source": [
    "pd.DataFrame(history.history).plot(figsize=(8, 5))\n",
    "plt.axis([0, 20, 0, 1])\n",
    "plt.title(\"Learning rate: \")\n",
    "plt.grid(True)\n",
    "plt.show()"
   ]
  },
  {
   "cell_type": "code",
   "execution_count": 18,
   "metadata": {
    "scrolled": true
   },
   "outputs": [
    {
     "data": {
      "text/plain": [
       "Text(89.18, 0.5, 'label actual')"
      ]
     },
     "execution_count": 18,
     "metadata": {},
     "output_type": "execute_result"
    },
    {
     "data": {
      "image/png": "[encoded data removed]",
      "text/plain": [
       "<Figure size 432x288 with 1 Axes>"
      ]
     },
     "metadata": {},
     "output_type": "display_data"
    }
   ],
   "source": [
    "preds = model.predict(X_test)\n",
    "y_classes = [np.argmax(y_test, axis=None, out=None) for y in y_test]\n",
    "matrix = confusion_matrix(y_test.argmax(axis=1), preds.argmax(axis=1))\n",
    "\n",
    "sns.heatmap(matrix, square=True, annot=True, fmt='d', cbar=False,\n",
    "           xticklabels=[1,2,3,4,5],yticklabels=[1,2,3,4,5])\n",
    "\n",
    "plt.xlabel('predicted label')\n",
    "plt.ylabel('label actual')"
   ]
  },
  {
   "cell_type": "code",
   "execution_count": 19,
   "metadata": {},
   "outputs": [
    {
     "name": "stdout",
     "output_type": "stream",
     "text": [
      "              precision    recall  f1-score   support\n",
      "\n",
      "           0       0.60      0.51      0.55       356\n",
      "           1       0.27      0.20      0.23       286\n",
      "           2       0.34      0.30      0.32       372\n",
      "           3       0.39      0.36      0.37       372\n",
      "           4       0.39      0.59      0.47       370\n",
      "\n",
      "   micro avg       0.40      0.40      0.40      1756\n",
      "   macro avg       0.40      0.39      0.39      1756\n",
      "weighted avg       0.40      0.40      0.39      1756\n",
      "\n"
     ]
    }
   ],
   "source": [
    "print(classification_report(y_test.argmax(axis=1), preds.argmax(axis=1)))"
   ]
  }
 ],
 "metadata": {
  "kernelspec": {
   "display_name": "Python 3",
   "language": "python",
   "name": "python3"
  },
  "language_info": {
   "codemirror_mode": {
    "name": "ipython",
    "version": 3
   },
   "file_extension": ".py",
   "mimetype": "text/x-python",
   "name": "python",
   "nbconvert_exporter": "python",
   "pygments_lexer": "ipython3",
   "version": "3.6.7"
  }
 },
 "nbformat": 4,
 "nbformat_minor": 2
}
