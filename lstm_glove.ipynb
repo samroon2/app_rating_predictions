{
 "cells": [
  {
   "cell_type": "code",
   "execution_count": 1,
   "metadata": {},
   "outputs": [
    {
     "name": "stderr",
     "output_type": "stream",
     "text": [
      "Using TensorFlow backend.\n"
     ]
    }
   ],
   "source": [
    "import os\n",
    "import numpy as np\n",
    "import matplotlib.pyplot as plt\n",
    "import pandas as pd\n",
    "import seaborn as sns\n",
    "import string, re\n",
    "import sys, zipfile\n",
    "from collections import Counter\n",
    "from keras.callbacks import EarlyStopping, ModelCheckpoint, ReduceLROnPlateau\n",
    "from keras.initializers import Constant\n",
    "from keras.layers import Dense, Input, GlobalMaxPooling1D\n",
    "from keras.layers import Conv1D, MaxPooling1D, Embedding\n",
    "from keras.layers import Activation, Dense, Dropout, SpatialDropout1D\n",
    "from keras.layers import Bidirectional, CuDNNLSTM\n",
    "from keras.models import Sequential, Model\n",
    "from keras.preprocessing.text import Tokenizer\n",
    "from keras.preprocessing.sequence import pad_sequences\n",
    "from keras.utils import to_categorical\n",
    "from nltk.corpus import names, stopwords, words\n",
    "from nltk.stem import WordNetLemmatizer\n",
    "from scipy import stats\n",
    "from sklearn.metrics import f1_score, make_scorer, classification_report, confusion_matrix, roc_curve, roc_auc_score\n",
    "from sklearn.model_selection import train_test_split\n",
    "sys.path.insert(0, './code/')\n",
    "from text_cleaning  import TextClean\n",
    "\n",
    "%matplotlib inline\n",
    "\n",
    "glove = \"../glove/glove.840B.300d.zip\"\n",
    "embedding_dimension = 300\n",
    "max_words = 20000\n",
    "val_split = 0.1"
   ]
  },
  {
   "cell_type": "code",
   "execution_count": 2,
   "metadata": {
    "scrolled": true
   },
   "outputs": [],
   "source": [
    "a = TextClean('.', app_name='temple_')\n",
    "# a.multi_process()\n",
    "# a.combine_products()"
   ]
  },
  {
   "cell_type": "code",
   "execution_count": 3,
   "metadata": {},
   "outputs": [],
   "source": [
    "import json\n",
    "X = []\n",
    "y = []\n",
    "\n",
    "with open('./data/temp_pre/temple__12.json') as f:\n",
    "    j = json.load(f)\n",
    "    [X.append(x['cleaned_text']) for x in j]\n",
    "    [y.append(x['stars']) for x in j]"
   ]
  },
  {
   "cell_type": "code",
   "execution_count": 4,
   "metadata": {},
   "outputs": [
    {
     "data": {
      "text/plain": [
       "(450522, 450522)"
      ]
     },
     "execution_count": 4,
     "metadata": {},
     "output_type": "execute_result"
    }
   ],
   "source": [
    "len(X), len(y)"
   ]
  },
  {
   "cell_type": "code",
   "execution_count": 5,
   "metadata": {},
   "outputs": [
    {
     "data": {
      "text/plain": [
       "('game bad jump chasing cloths hate pouting face pouting face pouting face pouting face pouting face pouting face pouting face pouting face',\n",
       " '1 star')"
      ]
     },
     "execution_count": 5,
     "metadata": {},
     "output_type": "execute_result"
    }
   ],
   "source": [
    "X[3], y[3]"
   ]
  },
  {
   "cell_type": "code",
   "execution_count": 6,
   "metadata": {},
   "outputs": [],
   "source": [
    "cnts = Counter(y)\n",
    "cnts = dict(sorted(cnts.items(), key=lambda x: x[1]))"
   ]
  },
  {
   "cell_type": "code",
   "execution_count": 7,
   "metadata": {},
   "outputs": [
    {
     "data": {
      "image/png": "[encoded data removed]",
      "text/plain": [
       "<Figure size 576x432 with 1 Axes>"
      ]
     },
     "metadata": {},
     "output_type": "display_data"
    }
   ],
   "source": [
    "sns.set(style=\"whitegrid\")\n",
    "plt.figure(figsize=(8, 6))\n",
    "ax = sns.barplot(x=list(cnts.keys()), y=list(cnts.values()))\n",
    "ax.set_title('Dataset Star Distribution')\n",
    "plt.show()"
   ]
  },
  {
   "cell_type": "code",
   "execution_count": 8,
   "metadata": {},
   "outputs": [],
   "source": [
    "X_, y_ = a.even_sample(X, y)"
   ]
  },
  {
   "cell_type": "code",
   "execution_count": 9,
   "metadata": {},
   "outputs": [],
   "source": [
    "y_ = [int(re.search(r'\\d+', x).group()) for x in y_]"
   ]
  },
  {
   "cell_type": "code",
   "execution_count": 10,
   "metadata": {},
   "outputs": [
    {
     "name": "stdout",
     "output_type": "stream",
     "text": [
      "Counter({3: 3712, 4: 3712, 5: 3712, 1: 3712, 2: 2712})\n"
     ]
    }
   ],
   "source": [
    "print(Counter(y_))"
   ]
  },
  {
   "cell_type": "code",
   "execution_count": 11,
   "metadata": {},
   "outputs": [],
   "source": [
    "sequence_length = max([len(x) for x in X_]) + 1\n",
    "tokenizer = Tokenizer(num_words=max_words, split=' ', oov_token='<unk>', filters=' ')\n",
    "tokenizer.fit_on_texts(X_)\n",
    "\n",
    "X = tokenizer.texts_to_sequences(X_)\n",
    "X = pad_sequences(X, sequence_length)"
   ]
  },
  {
   "cell_type": "code",
   "execution_count": 12,
   "metadata": {},
   "outputs": [
    {
     "name": "stdout",
     "output_type": "stream",
     "text": [
      "test set size 1756\n"
     ]
    }
   ],
   "source": [
    "y = np.array(y_)\n",
    "y_l = to_categorical(np.asarray(y))\n",
    "y_l = np.delete(y_l, 0, axis=1)\n",
    "\n",
    "X_train, X_test, y_train, y_test = train_test_split(X, y_l, test_size=0.1)\n",
    "\n",
    "print(\"test set size \" + str(len(X_test)))"
   ]
  },
  {
   "cell_type": "code",
   "execution_count": 13,
   "metadata": {},
   "outputs": [],
   "source": [
    "vocab_size = min(max_words, len(tokenizer.word_index)) + 1\n",
    "\n",
    "def glove(glove_dir, wordindex):      \n",
    "    embedding_weights = {}\n",
    "    count_all_words = 0 \n",
    "    with zipfile.ZipFile(glove_dir) as z:\n",
    "        with z.open(\"glove.840B.300d.txt\") as f:\n",
    "            for line in f:\n",
    "                vals = line.split()\n",
    "                word = str(vals[0].decode(\"utf-8\")) \n",
    "                if word in wordindex:\n",
    "                    count_all_words+=1\n",
    "                    coefs = np.asarray(vals[1:], dtype='float32')\n",
    "                    coefs/=np.linalg.norm(coefs) \n",
    "                    embedding_weights[word] = coefs\n",
    "                if count_all_words==len(wordindex) - 1:\n",
    "                    break\n",
    "    return embedding_weights \n",
    "\n",
    "embeddings_index = glove(\"./glove/glove.840B.300d.zip\", tokenizer.word_index)\n",
    "\n",
    "embedding_matrix = np.zeros((vocab_size, 300))\n",
    "for word, i in tokenizer.word_index.items():\n",
    "    embedding_vector = embeddings_index.get(word)\n",
    "    if embedding_vector is not None:\n",
    "        embedding_matrix[i] = embedding_vector\n",
    "    else:\n",
    "        # doesn't exist, assign a random vector\n",
    "        embedding_matrix[i] = np.random.randn(300)"
   ]
  },
  {
   "cell_type": "code",
   "execution_count": 32,
   "metadata": {
    "scrolled": true
   },
   "outputs": [
    {
     "name": "stdout",
     "output_type": "stream",
     "text": [
      "_________________________________________________________________\n",
      "Layer (type)                 Output Shape              Param #   \n",
      "=================================================================\n",
      "embedding_4 (Embedding)      (None, 2883, 300)         3160500   \n",
      "_________________________________________________________________\n",
      "spatial_dropout1d_4 (Spatial (None, 2883, 300)         0         \n",
      "_________________________________________________________________\n",
      "bidirectional_7 (Bidirection (None, 2883, 128)         187392    \n",
      "_________________________________________________________________\n",
      "dropout_7 (Dropout)          (None, 2883, 128)         0         \n",
      "_________________________________________________________________\n",
      "bidirectional_8 (Bidirection (None, 128)               99328     \n",
      "_________________________________________________________________\n",
      "dropout_8 (Dropout)          (None, 128)               0         \n",
      "_________________________________________________________________\n",
      "dense_4 (Dense)              (None, 5)                 645       \n",
      "=================================================================\n",
      "Total params: 3,447,865\n",
      "Trainable params: 287,365\n",
      "Non-trainable params: 3,160,500\n",
      "_________________________________________________________________\n",
      "None\n"
     ]
    }
   ],
   "source": [
    "model = Sequential([\n",
    "    Embedding(vocab_size, embedding_dimension, embeddings_initializer=Constant(embedding_matrix),\n",
    "    input_length=sequence_length,trainable=False),\n",
    "    SpatialDropout1D(0.3),\n",
    "    Bidirectional(CuDNNLSTM(64, return_sequences=True)),\n",
    "    Dropout(0.5),\n",
    "    Bidirectional(CuDNNLSTM(64)),\n",
    "    Dropout(0.5),\n",
    "    Dense(units=5, activation='softmax')\n",
    "])\n",
    "\n",
    "model.compile(loss = 'categorical_crossentropy', optimizer='adam', metrics = ['categorical_accuracy'])\n",
    "print(model.summary())"
   ]
  },
  {
   "cell_type": "code",
   "execution_count": 33,
   "metadata": {
    "scrolled": false
   },
   "outputs": [
    {
     "name": "stdout",
     "output_type": "stream",
     "text": [
      "Train on 14223 samples, validate on 1581 samples\n",
      "Epoch 1/12\n",
      "14223/14223 [==============================] - 201s 14ms/step - loss: 1.4820 - categorical_accuracy: 0.3505 - val_loss: 1.4145 - val_categorical_accuracy: 0.3978\n",
      "Epoch 2/12\n",
      "14223/14223 [==============================] - 199s 14ms/step - loss: 1.3965 - categorical_accuracy: 0.4105 - val_loss: 1.3967 - val_categorical_accuracy: 0.4105\n",
      "Epoch 3/12\n",
      "14223/14223 [==============================] - 199s 14ms/step - loss: 1.3690 - categorical_accuracy: 0.4267 - val_loss: 1.3923 - val_categorical_accuracy: 0.4130\n",
      "Epoch 4/12\n",
      "14223/14223 [==============================] - 199s 14ms/step - loss: 1.3524 - categorical_accuracy: 0.4338 - val_loss: 1.3714 - val_categorical_accuracy: 0.4238\n",
      "Epoch 5/12\n",
      "14223/14223 [==============================] - 208s 15ms/step - loss: 1.3335 - categorical_accuracy: 0.4409 - val_loss: 1.3730 - val_categorical_accuracy: 0.4263\n",
      "Epoch 6/12\n",
      "14223/14223 [==============================] - 205s 14ms/step - loss: 1.3238 - categorical_accuracy: 0.4460 - val_loss: 1.3827 - val_categorical_accuracy: 0.4250\n",
      "Epoch 7/12\n",
      "14223/14223 [==============================] - 206s 14ms/step - loss: 1.3176 - categorical_accuracy: 0.4437 - val_loss: 1.3764 - val_categorical_accuracy: 0.4333\n",
      "Epoch 8/12\n",
      "14223/14223 [==============================] - 207s 15ms/step - loss: 1.3057 - categorical_accuracy: 0.4494 - val_loss: 1.3744 - val_categorical_accuracy: 0.4434\n",
      "Epoch 9/12\n",
      "14223/14223 [==============================] - 205s 14ms/step - loss: 1.2921 - categorical_accuracy: 0.4617 - val_loss: 1.3780 - val_categorical_accuracy: 0.4390\n"
     ]
    }
   ],
   "source": [
    "batch_size = 64\n",
    "early_stopping = EarlyStopping(monitor='val_loss', patience=5, mode='min')\n",
    "save_best = ModelCheckpoint('reviews_lstm.hdf', save_best_only=True, \n",
    "                           monitor='val_loss', mode='min')\n",
    "history = model.fit(X_train, y_train, \n",
    "                    epochs=12, \n",
    "                    batch_size=batch_size, \n",
    "                    callbacks=[early_stopping,save_best],\n",
    "                    verbose=1, validation_split=0.1)"
   ]
  },
  {
   "cell_type": "code",
   "execution_count": 34,
   "metadata": {},
   "outputs": [
    {
     "data": {
      "image/png": "[encoded data removed]",
      "text/plain": [
       "<Figure size 576x360 with 1 Axes>"
      ]
     },
     "metadata": {},
     "output_type": "display_data"
    }
   ],
   "source": [
    "pd.DataFrame(history.history).plot(figsize=(8, 5))\n",
    "plt.axis([0, 20, 0, 1.5])\n",
    "plt.title(\"Learning rate: \")\n",
    "plt.grid(True)\n",
    "plt.show()"
   ]
  },
  {
   "cell_type": "code",
   "execution_count": 35,
   "metadata": {
    "scrolled": true
   },
   "outputs": [
    {
     "data": {
      "text/plain": [
       "Text(89.18, 0.5, 'label actual')"
      ]
     },
     "execution_count": 35,
     "metadata": {},
     "output_type": "execute_result"
    },
    {
     "data": {
      "image/png": "[encoded data removed]",
      "text/plain": [
       "<Figure size 432x288 with 1 Axes>"
      ]
     },
     "metadata": {},
     "output_type": "display_data"
    }
   ],
   "source": [
    "preds = model.predict(X_test)\n",
    "y_classes = [np.argmax(y_test, axis=None, out=None) for y in y_test]\n",
    "matrix = confusion_matrix(y_test.argmax(axis=1), preds.argmax(axis=1))\n",
    "\n",
    "sns.heatmap(matrix, square=True, annot=True, fmt='d', cbar=False,\n",
    "           xticklabels=[1,2,3,4,5],yticklabels=[1,2,3,4,5])\n",
    "\n",
    "plt.xlabel('predicted label')\n",
    "plt.ylabel('label actual')"
   ]
  },
  {
   "cell_type": "code",
   "execution_count": 36,
   "metadata": {},
   "outputs": [
    {
     "name": "stdout",
     "output_type": "stream",
     "text": [
      "              precision    recall  f1-score   support\n",
      "\n",
      "           0       0.64      0.61      0.63       384\n",
      "           1       0.32      0.11      0.16       276\n",
      "           2       0.36      0.34      0.35       374\n",
      "           3       0.38      0.46      0.42       373\n",
      "           4       0.40      0.56      0.47       349\n",
      "\n",
      "   micro avg       0.43      0.43      0.43      1756\n",
      "   macro avg       0.42      0.42      0.40      1756\n",
      "weighted avg       0.43      0.43      0.42      1756\n",
      "\n"
     ]
    }
   ],
   "source": [
    "print(classification_report(y_test.argmax(axis=1), preds.argmax(axis=1)))"
   ]
  },
  {
   "cell_type": "code",
   "execution_count": 37,
   "metadata": {},
   "outputs": [],
   "source": [
    "import pickle\n",
    "\n",
    "with open('tokenizer.pickle', 'wb') as handle:\n",
    "    pickle.dump(tokenizer, handle, protocol=pickle.HIGHEST_PROTOCOL)"
   ]
  },
  {
   "cell_type": "code",
   "execution_count": 38,
   "metadata": {},
   "outputs": [],
   "source": [
    "info = {\n",
    "    'tokenizer':'tokenizer.pickle',\n",
    "    'model':'reviews_lstm.hdf',\n",
    "    'max_sequence':sequence_length,\n",
    "    'max_words':max_words,\n",
    "    'vocab_size':vocab_size\n",
    "}\n",
    "\n",
    "import json\n",
    "\n",
    "with open('project_info.json', 'w') as outfile:\n",
    "    json.dump(info, outfile)"
   ]
  },
  {
   "cell_type": "code",
   "execution_count": 39,
   "metadata": {},
   "outputs": [
    {
     "data": {
      "text/plain": [
       "array([[0.59252924, 0.22609615, 0.13238469, 0.03731937, 0.0116705 ]],\n",
       "      dtype=float32)"
      ]
     },
     "execution_count": 39,
     "metadata": {},
     "output_type": "execute_result"
    }
   ],
   "source": [
    "import keras\n",
    "model = keras.models.load_model(\"./scoring_service/models/\"+info['model'])\n",
    "model.predict(X_train[0:1])"
   ]
  }
 ],
 "metadata": {
  "kernelspec": {
   "display_name": "Python 3",
   "language": "python",
   "name": "python3"
  },
  "language_info": {
   "codemirror_mode": {
    "name": "ipython",
    "version": 3
   },
   "file_extension": ".py",
   "mimetype": "text/x-python",
   "name": "python",
   "nbconvert_exporter": "python",
   "pygments_lexer": "ipython3",
   "version": "3.6.7"
  }
 },
 "nbformat": 4,
 "nbformat_minor": 2
}
